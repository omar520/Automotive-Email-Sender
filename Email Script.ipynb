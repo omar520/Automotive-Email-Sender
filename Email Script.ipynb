{
 "cells": [
  {
   "cell_type": "code",
   "execution_count": null,
   "id": "2bb28ec3",
   "metadata": {},
   "outputs": [],
   "source": [
    "import pandas as pd \n",
    "from PIL import Image, ImageDraw, ImageFont\n",
    "import smtplib\n",
    "import ssl\n",
    "from email.mime.text import MIMEText\n",
    "from email.mime.multipart import MIMEMultipart\n",
    "from email.mime.base import MIMEBase\n",
    "from email import encoders"
   ]
  },
  {
   "cell_type": "code",
   "execution_count": null,
   "id": "11005e68",
   "metadata": {
    "scrolled": true
   },
   "outputs": [],
   "source": [
    "df = pd.read_excel(\"your_exel_sheet_here.xlsx\")\n",
    "df.head()"
   ]
  },
  {
   "cell_type": "code",
   "execution_count": null,
   "id": "b079d898",
   "metadata": {},
   "outputs": [],
   "source": [
    "df.info()"
   ]
  },
  {
   "cell_type": "code",
   "execution_count": null,
   "id": "274da7b3",
   "metadata": {},
   "outputs": [],
   "source": [
    "def send_email(to_email, subject, body,  from_email, from_password):\n",
    "    # Create a secure SSL context\n",
    "    context = ssl.create_default_context()\n",
    "    \n",
    "    # Create the email message\n",
    "    message = MIMEMultipart()\n",
    "    message[\"From\"] = from_email\n",
    "    message[\"To\"] = to_email\n",
    "    message[\"Subject\"] = subject\n",
    "    \n",
    "    # Add the email body\n",
    "    message.attach(MIMEText(body, \"plain\"))\n",
    "        \n",
    "    try:\n",
    "        # Connect to the Gmail SMTP server\n",
    "        with smtplib.SMTP_SSL(\"smtp.gmail.com\", 465, context=context) as server:\n",
    "            # Log in to the server\n",
    "            server.login(from_email, from_password)\n",
    "            # Send the email\n",
    "            server.sendmail(from_email, to_email, message.as_string())\n",
    "        \n",
    "        print(f\"Email sent successfully to {to_email}!\")\n",
    "    except Exception as e:\n",
    "        print(f\"Error: {e}\")"
   ]
  },
  {
   "cell_type": "code",
   "execution_count": null,
   "id": "a14db955",
   "metadata": {},
   "outputs": [],
   "source": [
    "from_email = \"your.mail@gmail.com\"  # Replace with your Gmail address\n",
    "from_password = \"App-Password\"  # Replace with your Gmail password or App Password"
   ]
  },
  {
   "cell_type": "code",
   "execution_count": null,
   "id": "d7ddf20e",
   "metadata": {},
   "outputs": [],
   "source": [
    "for index, row in df.iterrows():\n",
    "    name = row['Name']\n",
    "    link = row['cert link']\n",
    "    email = row['Email']\n",
    "    team = row['Team']\n",
    "    subject = \"your subject => \"\n",
    "    # write your body below\n",
    "    body = (f\"Dear {name},\\n\\n🎉 I hope this message finds you well.\\n\\n\"\n",
    "            f\"I am writing to extend my heartfelt thanks for your invaluable contribution to our team with {team} team during the past period. Your dedication and hard work have been instrumental in our success, and it has been a pleasure to have you as part of our journey.\\n\\n\"\n",
    "            f\"Your unique insights and commitment to excellence have not only helped us achieve our goals but have also set a standard for what we can accomplish together. It is the collective effort of individuals like you that propels our team forward.\\n\\n\"\n",
    "            f\"🎉 you can find your certificate link attached bellow.\\n{link}\\n\"\n",
    "            \"If you decide to share it on LinkedIn, feel free to mention us ❤️.\\n\\n\"\n",
    "            f\"Thank you once again for being an integral part of our team's story. We look forward to your continued involvement and to achieving even greater heights together.\\n\\nWarm regards,\\n\\n\"\n",
    "            f\"Omar Mohamed ElSayed.\\nGoogle Developer Student Club, El-Shorouk Academy Lead.\")\n",
    "    send_email(email, subject, body, from_email, from_password)\n",
    "\n",
    "    print(\"Certificates generated and emails sent successfully.\")\n"
   ]
  }
 ],
 "metadata": {
  "kernelspec": {
   "display_name": "Python 3 (ipykernel)",
   "language": "python",
   "name": "python3"
  },
  "language_info": {
   "codemirror_mode": {
    "name": "ipython",
    "version": 3
   },
   "file_extension": ".py",
   "mimetype": "text/x-python",
   "name": "python",
   "nbconvert_exporter": "python",
   "pygments_lexer": "ipython3",
   "version": "3.12.4"
  }
 },
 "nbformat": 4,
 "nbformat_minor": 5
}
